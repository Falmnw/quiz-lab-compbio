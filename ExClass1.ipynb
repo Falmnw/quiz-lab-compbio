{
 "cells": [
  {
   "cell_type": "code",
   "execution_count": null,
   "id": "e26e9524",
   "metadata": {},
   "outputs": [],
   "source": [
    "from Bio import SeqIO\n",
    "from Bio.Seq import Seq"
   ]
  },
  {
   "cell_type": "code",
   "execution_count": null,
   "id": "133ec511",
   "metadata": {},
   "outputs": [],
   "source": [
    "# Import file\n",
    "def load_fasta(filename):\n",
    "    record = SeqIO.read(filename, 'fasta')\n",
    "    return record"
   ]
  },
  {
   "cell_type": "code",
   "execution_count": 3,
   "id": "5147304f",
   "metadata": {},
   "outputs": [
    {
     "name": "stdout",
     "output_type": "stream",
     "text": [
      "ID: NM_142462.3\n",
      "Name: NM_142462.3\n",
      "Description: NM_142462.3 Drosophila melanogaster corona (cona), mRNA\n",
      "Number of features: 0\n",
      "Seq('TACGTCAAAACAGAAATTTCGCCAAAACTTGAATAGAACGTTGCGACAATTATT...TGT')\n",
      "TACGTCAAAACAGAAATTTCGCCAAAACTTGAATAGAACGTTGCGACAATTATTATTACAGTTAAACAAATTGTTATCCAAAACTACATGAGCAATGGGTAGTAACCAAGATTGGAACAAGGAAGACTCCAAAACTGAGGTCCCACCTGAGGAAGATGACCAAGTGACAGCATACATTGAGAAATCAGTGGCCCAATTGGGCTCCGAAAATGATCACCGTACCGCGCTGGTCGATGAAAAGAAGAAGGAGTTGGATGTCCTGATTGCCGAGAAGTACACCACTTTGAACGACTTAACCCATGTCACCAATTCCCAGAATCTTGTGGACGACATCCACTTTCTGCATACGAAGAACGCCAAGATCCTGGAGAGCCTCAATCAGGCGGTCACCGCCAAGAGAAACGTCTCCCAGGCCTACGATGACCATT\n",
      "GCAAGAAGGCGCTCAAGGTCAAGGCCGAGATGCAGGAGCAGACGAAATGCTTCGATGAGTTCACCGTGATGAACTACCACGATCTAAAGAAGACCATACTTAACACCAAGAAAGAAACGCAAGAAATTCGCGCTAAGACGGCTTTAAAGACCGAGGAGCTCAAAAAGAAGCGAGAATTTGTTAACACCACCCAAAAGTCAATGGCTAATGATATCCGTGTTCTAGGCCAGATCGAACATGACCTCATTGGGATAATCGAAGACTTAAAATCCAAAATTTCTGCAATTTAAGTACAGGAAAACAAATAACACTTGAACAATCGCCAAAGGTGCATTGGAAAATACGGTCGTACCTCATCTTCCAAAAAATAATCCTTAATATTGCTGCGTTTTCCAAATAATTTGACAAATAAAGTACTTTTTATTCTGT\n"
     ]
    }
   ],
   "source": [
    "# Read Sequence in fasta\n",
    "record = load_fasta('sequence.fasta')\n",
    "print(record)\n",
    "\n",
    "seqA = record.seq[:round(len(record.seq)/2)]\n",
    "seqB = record.seq[round(len(record.seq)/2):]\n",
    "print(seqA)\n",
    "print(seqB)"
   ]
  },
  {
   "cell_type": "code",
   "execution_count": 7,
   "id": "be5a8cdb",
   "metadata": {},
   "outputs": [
    {
     "name": "stdout",
     "output_type": "stream",
     "text": [
      "Panjang seqA:  428\n",
      "Panjang seqB:  429\n"
     ]
    }
   ],
   "source": [
    "# Find the lenght of both sequences\n",
    "\n",
    "lenSeqA = len(seqA)\n",
    "lenSeqB = len(seqB)\n",
    "\n",
    "print('Panjang seqA: ', lenSeqA)\n",
    "print('Panjang seqB: ', lenSeqB)"
   ]
  },
  {
   "cell_type": "code",
   "execution_count": 9,
   "id": "b16f4a62",
   "metadata": {},
   "outputs": [
    {
     "name": "stdout",
     "output_type": "stream",
     "text": [
      "4\n",
      "4\n"
     ]
    }
   ],
   "source": [
    "# the number of time codon (CGC) appears in both sequence\n",
    "\n",
    "count_CGC_SeqA = seqA.count('CGC')\n",
    "count_CGC_SeqB = seqB.count('CGC')\n",
    "print(count_CGC_SeqA)\n",
    "print(count_CGC_SeqB)"
   ]
  },
  {
   "cell_type": "code",
   "execution_count": 13,
   "id": "7b4280a2",
   "metadata": {},
   "outputs": [
    {
     "name": "stdout",
     "output_type": "stream",
     "text": [
      "19\n",
      "9\n"
     ]
    }
   ],
   "source": [
    "# LOCATE first occurance INDEX position, kali ini kita cari CGC\n",
    "\n",
    "index_seqA = seqA.find('CGC')\n",
    "index_seqB = seqB.find('CGC')\n",
    "print(index_seqA)\n",
    "print(index_seqB)"
   ]
  },
  {
   "cell_type": "code",
   "execution_count": 17,
   "id": "0bc61b8d",
   "metadata": {},
   "outputs": [
    {
     "name": "stdout",
     "output_type": "stream",
     "text": [
      "Sequence C           :  TACGTCAAAACAGAAGCTCAAGGTCAAGGCCGAGATGCAGGAGCAGACGAAATGCTTCGATGAGTTCACCGTGATGAACTACCACGATCTAAAGAAGACCATACTTAACACCAAGAAAGAAACGCAAGAAATTCGCGCTAAGACGGCTTTAAAGACCGAGGAGCTCAAAAAGAAGCGAGAATTTGTTAACACCACCCAAAAGTCAATGGCTAATGATATCCGTGTTCTAGGCCAGATCGAACATGACCTCATTGGGATAATCGAAGACTTAAAATCCAAAATTTCTGCAATTTAAGTACAGGAAAACAAATAACACTTGAACAATCGCCAAAGGTGCATTGGAAAATACGGTCGTACCTCATCTTCCAAAAAATAATCCTTAATATTGCTGCGTTTTCCAAATAATTTGACAAATAAAGTACTTTTTATTCTGT\n",
      "Reverse sequence C   :  TGTCTTATTTTTCATGAAATAAACAGTTTAATAAACCTTTTGCGTCGTTATAATTCCTAATAAAAAACCTTCTACTCCATGCTGGCATAAAAGGTTACGTGGAAACCGCTAACAAGTTCACAATAAACAAAAGGACATGAATTTAACGTCTTTAAAACCTAAAATTCAGAAGCTAATAGGGTTACTCCAGTACAAGCTAGACCGGATCTTGTGCCTATAGTAATCGGTAACTGAAAACCCACCACAATTGTTTAAGAGCGAAGAAAAACTCGAGGAGCCAGAAATTTCGGCAGAATCGCGCTTAAAGAACGCAAAGAAAGAACCACAATTCATACCAGAAGAAATCTAGCACCATCAAGTAGTGCCACTTGAGTAGCTTCGTAAAGCAGACGAGGACGTAGAGCCGGAACTGGAACTCGAAGACAAAACTGCAT\n"
     ]
    }
   ],
   "source": [
    "# Combine the first 15 nucleotides from sequence A and last 10 nucleotides from sequence B\n",
    "\n",
    "seqC = seqA[:15] + seqB[10:]\n",
    "print('Sequence C           : ', seqC)\n",
    "\n",
    "# Reverse Sequence C\n",
    "\n",
    "print('Reverse sequence C   : ', seqC[::-1])"
   ]
  },
  {
   "cell_type": "code",
   "execution_count": null,
   "id": "cb75cdb8",
   "metadata": {},
   "outputs": [],
   "source": []
  }
 ],
 "metadata": {
  "kernelspec": {
   "display_name": "base",
   "language": "python",
   "name": "python3"
  },
  "language_info": {
   "codemirror_mode": {
    "name": "ipython",
    "version": 3
   },
   "file_extension": ".py",
   "mimetype": "text/x-python",
   "name": "python",
   "nbconvert_exporter": "python",
   "pygments_lexer": "ipython3",
   "version": "3.12.7"
  }
 },
 "nbformat": 4,
 "nbformat_minor": 5
}
