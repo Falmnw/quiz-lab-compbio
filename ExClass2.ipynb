{
 "cells": [
  {
   "cell_type": "code",
   "execution_count": 2,
   "id": "4518cfee",
   "metadata": {},
   "outputs": [],
   "source": [
    "from Bio import SeqIO\n",
    "from Bio.Seq import Seq"
   ]
  },
  {
   "cell_type": "code",
   "execution_count": 4,
   "id": "2fddcdc9",
   "metadata": {},
   "outputs": [],
   "source": [
    "def load_fasta(filename):\n",
    "    record = SeqIO.read(filename, 'fasta')\n",
    "    return record"
   ]
  },
  {
   "cell_type": "code",
   "execution_count": 5,
   "id": "7a8110ea",
   "metadata": {},
   "outputs": [
    {
     "name": "stdout",
     "output_type": "stream",
     "text": [
      "ID: NM_142462.3\n",
      "Name: NM_142462.3\n",
      "Description: NM_142462.3 Drosophila melanogaster corona (cona), mRNA\n",
      "Number of features: 0\n",
      "Seq('TACGTCAAAACAGAAATTTCGCCAAAACTTGAATAGAACGTTGCGACAATTATT...TGT')\n",
      "TACGTCAAAACAGAAATTTCGCCAAAACTTGAATAGAACGTTGCGACAATTATTATTACAGTTAAACAAATTGTTATCCAAAACTACATGAGCAATGGGTAGTAACCAAGATTGGAACAAGGAAGACTCCAAAACTGAGGTCCCACCTGAGGAAGATGACCAAGTGACAGCATACATTGAGAAATCAGTGGCCCAATTGGGCTCCGAAAATGATCACCGTACCGCGCTGGTCGATGAAAAGAAGAAGGAGTTGGATGTCCTGATTGCCGAGAAGTACACCACTTTGAACGACTTAACCCATGTCACCAATTCCCAGAATCTTGTGGACGACATCCACTTTCTGCATACGAAGAACGCCAAGATCCTGGAGAGCCTCAATCAGGCGGTCACCGCCAAGAGAAACGTCTCCCAGGCCTACGATGACCATT\n",
      "GCAAGAAGGCGCTCAAGGTCAAGGCCGAGATGCAGGAGCAGACGAAATGCTTCGATGAGTTCACCGTGATGAACTACCACGATCTAAAGAAGACCATACTTAACACCAAGAAAGAAACGCAAGAAATTCGCGCTAAGACGGCTTTAAAGACCGAGGAGCTCAAAAAGAAGCGAGAATTTGTTAACACCACCCAAAAGTCAATGGCTAATGATATCCGTGTTCTAGGCCAGATCGAACATGACCTCATTGGGATAATCGAAGACTTAAAATCCAAAATTTCTGCAATTTAAGTACAGGAAAACAAATAACACTTGAACAATCGCCAAAGGTGCATTGGAAAATACGGTCGTACCTCATCTTCCAAAAAATAATCCTTAATATTGCTGCGTTTTCCAAATAATTTGACAAATAAAGTACTTTTTATTCTGT\n"
     ]
    }
   ],
   "source": [
    "record = load_fasta('sequence.fasta')\n",
    "print(record)\n",
    "\n",
    "seqA = record.seq[:round(len(record)/2)]\n",
    "seqB = record.seq[round(len(record)/2):]\n",
    "print(seqA)\n",
    "print(seqB)\n"
   ]
  },
  {
   "cell_type": "code",
   "execution_count": 6,
   "id": "ce1c4273",
   "metadata": {},
   "outputs": [
    {
     "name": "stdout",
     "output_type": "stream",
     "text": [
      "428\n",
      "429\n"
     ]
    }
   ],
   "source": [
    "panjang_seqA = len(seqA)\n",
    "panjang_seqB = len(seqB)\n",
    "print(panjang_seqA)\n",
    "print(panjang_seqB)"
   ]
  },
  {
   "cell_type": "code",
   "execution_count": 7,
   "id": "e37b4f95",
   "metadata": {},
   "outputs": [
    {
     "name": "stdout",
     "output_type": "stream",
     "text": [
      "4\n",
      "4\n"
     ]
    }
   ],
   "source": [
    "jumlahCGC_seqA = seqA.count('CGC')\n",
    "jumlahCGC_seqB = seqB.count('CGC')\n",
    "print(jumlahCGC_seqA)\n",
    "print(jumlahCGC_seqB)"
   ]
  },
  {
   "cell_type": "code",
   "execution_count": 8,
   "id": "3aabb829",
   "metadata": {},
   "outputs": [
    {
     "name": "stdout",
     "output_type": "stream",
     "text": [
      "-1\n",
      "-1\n"
     ]
    }
   ],
   "source": [
    "find_seqA = seqA.find('CAGTC')\n",
    "find_seqB = seqB.find('CAGTC')\n",
    "print(find_seqA)\n",
    "print(find_seqB)\n"
   ]
  },
  {
   "cell_type": "code",
   "execution_count": null,
   "id": "8c6d937a",
   "metadata": {},
   "outputs": [
    {
     "name": "stdout",
     "output_type": "stream",
     "text": [
      "TACGTCAAAACAGAAGCTCAAGGTCAAGGCCGAGATGCAGGAGCAGACGAAATGCTTCGATGAGTTCACCGTGATGAACTACCACGATCTAAAGAAGACCATACTTAACACCAAGAAAGAAACGCAAGAAATTCGCGCTAAGACGGCTTTAAAGACCGAGGAGCTCAAAAAGAAGCGAGAATTTGTTAACACCACCCAAAAGTCAATGGCTAATGATATCCGTGTTCTAGGCCAGATCGAACATGACCTCATTGGGATAATCGAAGACTTAAAATCCAAAATTTCTGCAATTTAAGTACAGGAAAACAAATAACACTTGAACAATCGCCAAAGGTGCATTGGAAAATACGGTCGTACCTCATCTTCCAAAAAATAATCCTTAATATTGCTGCGTTTTCCAAATAATTTGACAAATAAAGTACTTTTTATTCTGT\n",
      "TGTCTTATTTTTCATGAAATAAACAGTTTAATAAACCTTTTGCGTCGTTATAATTCCTAATAAAAAACCTTCTACTCCATGCTGGCATAAAAGGTTACGTGGAAACCGCTAACAAGTTCACAATAAACAAAAGGACATGAATTTAACGTCTTTAAAACCTAAAATTCAGAAGCTAATAGGGTTACTCCAGTACAAGCTAGACCGGATCTTGTGCCTATAGTAATCGGTAACTGAAAACCCACCACAATTGTTTAAGAGCGAAGAAAAACTCGAGGAGCCAGAAATTTCGGCAGAATCGCGCTTAAAGAACGCAAAGAAAGAACCACAATTCATACCAGAAGAAATCTAGCACCATCAAGTAGTGCCACTTGAGTAGCTTCGTAAAGCAGACGAGGACGTAGAGCCGGAACTGGAACTCGAAGACAAAACTGCAT\n"
     ]
    },
    {
     "ename": "",
     "evalue": "",
     "output_type": "error",
     "traceback": [
      "\u001b[1;31mThe Kernel crashed while executing code in the current cell or a previous cell. \n",
      "\u001b[1;31mPlease review the code in the cell(s) to identify a possible cause of the failure. \n",
      "\u001b[1;31mClick <a href='https://aka.ms/vscodeJupyterKernelCrash'>here</a> for more info. \n",
      "\u001b[1;31mView Jupyter <a href='command:jupyter.viewOutput'>log</a> for further details."
     ]
    }
   ],
   "source": [
    "seqC = seqA[:15] + seqB[10:]\n",
    "print(seqC)\n",
    "\n",
    "print(seqC[::-1])"
   ]
  },
  {
   "cell_type": "code",
   "execution_count": null,
   "id": "d3123fb0",
   "metadata": {},
   "outputs": [],
   "source": []
  }
 ],
 "metadata": {
  "kernelspec": {
   "display_name": "Python 3",
   "language": "python",
   "name": "python3"
  },
  "language_info": {
   "codemirror_mode": {
    "name": "ipython",
    "version": 3
   },
   "file_extension": ".py",
   "mimetype": "text/x-python",
   "name": "python",
   "nbconvert_exporter": "python",
   "pygments_lexer": "ipython3",
   "version": "3.7.6"
  }
 },
 "nbformat": 4,
 "nbformat_minor": 5
}
